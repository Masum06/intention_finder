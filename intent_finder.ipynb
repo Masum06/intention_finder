{
  "nbformat": 4,
  "nbformat_minor": 0,
  "metadata": {
    "colab": {
      "name": "intent_finder.ipynb",
      "version": "0.3.2",
      "provenance": [],
      "collapsed_sections": [],
      "include_colab_link": true
    },
    "kernelspec": {
      "name": "python2",
      "display_name": "Python 2"
    },
    "accelerator": "GPU"
  },
  "cells": [
    {
      "cell_type": "markdown",
      "metadata": {
        "id": "view-in-github",
        "colab_type": "text"
      },
      "source": [
        "[View in Colaboratory](https://colab.research.google.com/github/Masum06/intention_finder/blob/master/intent_finder.ipynb)"
      ]
    },
    {
      "metadata": {
        "id": "tOs5JRtikTBo",
        "colab_type": "code",
        "colab": {
          "base_uri": "https://localhost:8080/",
          "height": 163
        },
        "outputId": "d339b401-806b-4250-9d84-ba606c77fabc"
      },
      "cell_type": "code",
      "source": [
        "!pip install git+https://github.com/mit-nlp/MITIE.git\n",
        "!pip install spacy"
      ],
      "execution_count": 1,
      "outputs": [
        {
          "output_type": "stream",
          "text": [
            "Collecting git+https://github.com/mit-nlp/MITIE.git\r\n",
            "  Cloning https://github.com/mit-nlp/MITIE.git to /tmp/pip-req-build-hMOo44\n",
            "Building wheels for collected packages: mitie\n",
            "  Running setup.py bdist_wheel for mitie ... \u001b[?25l-\b \b\\\b \b|\b \b/\b \b-\b \b\\\b \b|\b \b/\b \b-\b \b\\\b \b|\b \b/\b \b-\b \b\\\b \b|\b \b/\b \b-\b \b\\\b \b|\b \b/\b \b-\b \b\\\b \b|\b \b/\b \b-\b \b\\\b \b|\b \b/\b \b-\b \b\\\b \b|\b \b/\b \b-\b \b\\\b \b|\b \b/\b \b-\b \b\\\b \b|\b \b/\b \b-\b \b\\\b \b|\b \b/\b \b-\b \b\\\b \b|\b \b/\b \b-\b \b\\\b \b|\b \b/\b \b-\b \b\\\b \b|\b \b/\b \b-\b \b\\\b \b|\b \b/\b \b-\b \b\\\b \b|\b \b/\b \b-\b \b\\\b \b|\b \b/\b \b-\b \b\\\b \b|\b \b/\b \b-\b \b\\\b \b|\b \b/\b \b-\b \b\\\b \b|\b \b/\b \b-\b \b\\\b \b|\b \b/\b \b-\b \b\\\b \b|\b \b/\b \bdone\n",
            "\u001b[?25h  Stored in directory: /tmp/pip-ephem-wheel-cache-EDcyij/wheels/b4/c1/21/8e7e7e14cf3211bf5c73aad0b1d76d1186fbf681f4b9ef6c06\n",
            "Successfully built mitie\n",
            "Installing collected packages: mitie\n",
            "Successfully installed mitie-0.5.0\n"
          ],
          "name": "stdout"
        }
      ]
    },
    {
      "metadata": {
        "id": "J9z2Xs0YwTmE",
        "colab_type": "code",
        "colab": {
          "base_uri": "https://localhost:8080/",
          "height": 108
        },
        "outputId": "a134c66d-0fc2-44fc-f862-12773329f7f9"
      },
      "cell_type": "code",
      "source": [
        "!git clone https://github.com/mit-nlp/MITIE.git"
      ],
      "execution_count": 2,
      "outputs": [
        {
          "output_type": "stream",
          "text": [
            "Cloning into 'MITIE'...\n",
            "remote: Counting objects: 33180, done.\u001b[K\n",
            "remote: Total 33180 (delta 0), reused 0 (delta 0), pack-reused 33180\u001b[K\n",
            "Receiving objects: 100% (33180/33180), 10.68 MiB | 10.87 MiB/s, done.\n",
            "Resolving deltas: 100% (23147/23147), done.\n"
          ],
          "name": "stdout"
        }
      ]
    },
    {
      "metadata": {
        "id": "un7f7dv5LhMo",
        "colab_type": "code",
        "colab": {}
      },
      "cell_type": "code",
      "source": [
        "!python -m spacy download en_core_web_sm"
      ],
      "execution_count": 0,
      "outputs": []
    },
    {
      "metadata": {
        "id": "4NSQXhrVwaqS",
        "colab_type": "code",
        "colab": {
          "base_uri": "https://localhost:8080/",
          "height": 35
        },
        "outputId": "9987c80a-f875-485c-baf6-716c434882ab"
      },
      "cell_type": "code",
      "source": [
        "!ls"
      ],
      "execution_count": 3,
      "outputs": [
        {
          "output_type": "stream",
          "text": [
            "datalab  MITIE\r\n"
          ],
          "name": "stdout"
        }
      ]
    },
    {
      "metadata": {
        "id": "cHVSepsTwWk8",
        "colab_type": "code",
        "colab": {
          "base_uri": "https://localhost:8080/",
          "height": 126
        },
        "outputId": "06a3cb92-775f-4865-bfee-dcf5abaafeac"
      },
      "cell_type": "code",
      "source": [
        "%%bash\n",
        "cd MITIE\n",
        "make MITIE-models"
      ],
      "execution_count": 4,
      "outputs": [
        {
          "output_type": "stream",
          "text": [
            "curl -LO https://github.com/mit-nlp/MITIE/releases/download/v0.4/MITIE-models-v0.2.tar.bz2\n",
            "tar -xjf MITIE-models-v0.2.tar.bz2\n"
          ],
          "name": "stdout"
        },
        {
          "output_type": "stream",
          "text": [
            "  % Total    % Received % Xferd  Average Speed   Time    Time     Time  Current\n",
            "                                 Dload  Upload   Total   Spent    Left  Speed\n",
            "\r  0     0    0     0    0     0      0      0 --:--:-- --:--:-- --:--:--     0\r100   615    0   615    0     0    615      0 --:--:-- --:--:-- --:--:--  1447\n",
            "\r  0     0    0     0    0     0      0      0 --:--:-- --:--:-- --:--:--     0\r  0  415M    0  321k    0     0   321k      0  0:22:03  0:00:01  0:22:02  325k\r  0  415M    0 1834k    0     0   917k      0  0:07:43  0:00:02  0:07:41  929k\r  1  415M    1 8301k    0     0  2767k      0  0:02:33  0:00:03  0:02:30 2768k\r  5  415M    5 23.0M    0     0  5907k      0  0:01:12  0:00:04  0:01:08 5934k\r 12  415M   12 53.8M    0     0  10.7M      0  0:00:38  0:00:05  0:00:33 10.8M\r 21  415M   21 89.6M    0     0  14.9M      0  0:00:27  0:00:06  0:00:21 17.8M\r 29  415M   29  124M    0     0  17.8M      0  0:00:23  0:00:07  0:00:16 24.5M\r 38  415M   38  160M    0     0  20.0M      0  0:00:20  0:00:08  0:00:12 30.7M\r 47  415M   47  197M    0     0  21.9M      0  0:00:18  0:00:09  0:00:09 34.8M\r 55  415M   55  232M    0     0  23.2M      0  0:00:17  0:00:10  0:00:07 35.7M\r 64  415M   64  269M    0     0  24.4M      0  0:00:16  0:00:11  0:00:05 36.1M\r 73  415M   73  305M    0     0  25.4M      0  0:00:16  0:00:12  0:00:04 36.0M\r 82  415M   82  340M    0     0  26.2M      0  0:00:15  0:00:13  0:00:02 36.0M\r 90  415M   90  378M    0     0  27.0M      0  0:00:15  0:00:14  0:00:01 36.2M\r 97  415M   97  405M    0     0  27.0M      0  0:00:15  0:00:15 --:--:-- 34.5M\r100  415M  100  415M    0     0  25.9M      0  0:00:16  0:00:16 --:--:-- 33.5M\n"
          ],
          "name": "stderr"
        }
      ]
    },
    {
      "metadata": {
        "id": "HmocHRX5wlm_",
        "colab_type": "code",
        "colab": {
          "base_uri": "https://localhost:8080/",
          "height": 35
        },
        "outputId": "0ed0fec1-0593-467e-d631-88fe71f63b28"
      },
      "cell_type": "code",
      "source": [
        "!ls MITIE/MITIE-models/english"
      ],
      "execution_count": 5,
      "outputs": [
        {
          "output_type": "stream",
          "text": [
            "binary_relations  ner_model.dat  total_word_feature_extractor.dat\r\n"
          ],
          "name": "stdout"
        }
      ]
    },
    {
      "metadata": {
        "id": "a4RcT5vdw6aI",
        "colab_type": "code",
        "colab": {}
      },
      "cell_type": "code",
      "source": [
        ""
      ],
      "execution_count": 0,
      "outputs": []
    },
    {
      "metadata": {
        "id": "9jHQ9Omhk0LY",
        "colab_type": "code",
        "colab": {}
      },
      "cell_type": "code",
      "source": [
        "data={\n",
        "  \"greet\": {\n",
        "    \"examples\" : [\"hello\",\"hey there\",\"howdy\",\"hello\",\"hi\",\"hey\",\"hey ho\"],\n",
        "    \"centroid\" : None\n",
        "  },\n",
        "  \"inform\": {\n",
        "    \"examples\" : [\n",
        "      \"i'd like something asian\",\n",
        "      \"maybe korean\",\n",
        "      \"what mexican options do i have\",\n",
        "      \"what italian options do i have\",\n",
        "      \"i want korean food\",\n",
        "      \"i want german food\",\n",
        "      \"i want vegetarian food\",\n",
        "      \"i would like chinese food\",\n",
        "      \"i would like indian food\",\n",
        "      \"what japanese options do i have\",\n",
        "      \"korean please\",\n",
        "      \"what about indian\",\n",
        "      \"i want some vegan food\",\n",
        "      \"maybe thai\",\n",
        "      \"i'd like something vegetarian\",\n",
        "      \"show me french restaurants\",\n",
        "      \"show me a cool malaysian spot\"\n",
        "    ],\n",
        "    \"centroid\" : None\n",
        "  },\n",
        "  \"deny\": {\n",
        "    \"examples\" : [\n",
        "      \"nah\",\n",
        "      \"any other places ?\",\n",
        "      \"anything else\",\n",
        "      \"no thanks\"\n",
        "      \"not that one\",\n",
        "      \"i do not like that place\",\n",
        "      \"something else please\",\n",
        "      \"no please show other options\"\n",
        "    ],\n",
        "    \"centroid\" : None\n",
        "  }\n",
        "}"
      ],
      "execution_count": 0,
      "outputs": []
    },
    {
      "metadata": {
        "id": "WKtuTdWkq0O_",
        "colab_type": "code",
        "colab": {
          "base_uri": "https://localhost:8080/",
          "height": 474
        },
        "outputId": "0b91a509-e9e9-4690-e2a6-31cf2fb91a7f"
      },
      "cell_type": "code",
      "source": [
        "!wget https://www.dropbox.com/s/0abglv8scuorkhs/glove.6B.zip"
      ],
      "execution_count": 7,
      "outputs": [
        {
          "output_type": "stream",
          "text": [
            "--2018-08-14 06:30:08--  https://www.dropbox.com/s/0abglv8scuorkhs/glove.6B.zip\n",
            "Resolving www.dropbox.com (www.dropbox.com)... 162.125.65.1, 2620:100:6021:1::a27d:4101\n",
            "Connecting to www.dropbox.com (www.dropbox.com)|162.125.65.1|:443... connected.\n",
            "HTTP request sent, awaiting response... 301 Moved Permanently\n",
            "Location: /s/raw/0abglv8scuorkhs/glove.6B.zip [following]\n",
            "--2018-08-14 06:30:08--  https://www.dropbox.com/s/raw/0abglv8scuorkhs/glove.6B.zip\n",
            "Reusing existing connection to www.dropbox.com:443.\n",
            "HTTP request sent, awaiting response... 302 Found\n",
            "Location: https://ucc570708264a6dd5bb434674d89.dl.dropboxusercontent.com/cd/0/inline/AN6GrKAAHhfVmeMWit6Rc2hyPnyRci6h3vsqXWJ6fgefxPz6Zj4kDuIeR2YhPH-puqoXJLYg3iLKO-hl2cXTZcocLv9A5ukKV93AMz5rMmDD6yOhM1OMKPYMMbxLSZVSO-va6mcj5-30ZU00cZFioQNQl_oxElY_1QprGU4i6i9u0WqAz2H92kBaC__FmitqF-U/file [following]\n",
            "--2018-08-14 06:30:08--  https://ucc570708264a6dd5bb434674d89.dl.dropboxusercontent.com/cd/0/inline/AN6GrKAAHhfVmeMWit6Rc2hyPnyRci6h3vsqXWJ6fgefxPz6Zj4kDuIeR2YhPH-puqoXJLYg3iLKO-hl2cXTZcocLv9A5ukKV93AMz5rMmDD6yOhM1OMKPYMMbxLSZVSO-va6mcj5-30ZU00cZFioQNQl_oxElY_1QprGU4i6i9u0WqAz2H92kBaC__FmitqF-U/file\n",
            "Resolving ucc570708264a6dd5bb434674d89.dl.dropboxusercontent.com (ucc570708264a6dd5bb434674d89.dl.dropboxusercontent.com)... 162.125.65.6, 2620:100:6021:6::a27d:4106\n",
            "Connecting to ucc570708264a6dd5bb434674d89.dl.dropboxusercontent.com (ucc570708264a6dd5bb434674d89.dl.dropboxusercontent.com)|162.125.65.6|:443... connected.\n",
            "HTTP request sent, awaiting response... 302 FOUND\n",
            "Location: /cd/0/inline2/AN5tqGZ7Uf8-xw4mk5rYZXr_Vcum0s7H5GRMLSxN3N3ukJ4QYQbT-yxJpEubFLg1D4kwfcwHJtGsJh9Elpm6WfMSJeigId0EFTbUFYeoEnG1K2UtQ3QWI6-pUqRbrWD9_v4RH7n6SWl38KMgt7pvEnRSFTrhcHB_uhkadLe5L0hb7Z4iviUNJsOl7pv29eSodvXWY4ZiCyH1_4OVDwmUFh8owxoXej_FF8x65yhjHAopOxX227wtotidwDEGP-pwKJ41S1ibmlc6uSlsvE7xcWjq2PHn0oNJzeryLf9c-An3JneWHXwnem5RrEM8YzMI6VCdM63hptC5IvUgZXGXVGjRCLNQkV64PiAZvRK5s7mFLCb95RUJhWwLZQ4S6PVOiCfbfACHuyTDlGBWBykkL2eJY2NsgO_pjfO6-QTbaSXz1wYolBEJcl4d4PA-yRjR_kk/file [following]\n",
            "--2018-08-14 06:30:09--  https://ucc570708264a6dd5bb434674d89.dl.dropboxusercontent.com/cd/0/inline2/AN5tqGZ7Uf8-xw4mk5rYZXr_Vcum0s7H5GRMLSxN3N3ukJ4QYQbT-yxJpEubFLg1D4kwfcwHJtGsJh9Elpm6WfMSJeigId0EFTbUFYeoEnG1K2UtQ3QWI6-pUqRbrWD9_v4RH7n6SWl38KMgt7pvEnRSFTrhcHB_uhkadLe5L0hb7Z4iviUNJsOl7pv29eSodvXWY4ZiCyH1_4OVDwmUFh8owxoXej_FF8x65yhjHAopOxX227wtotidwDEGP-pwKJ41S1ibmlc6uSlsvE7xcWjq2PHn0oNJzeryLf9c-An3JneWHXwnem5RrEM8YzMI6VCdM63hptC5IvUgZXGXVGjRCLNQkV64PiAZvRK5s7mFLCb95RUJhWwLZQ4S6PVOiCfbfACHuyTDlGBWBykkL2eJY2NsgO_pjfO6-QTbaSXz1wYolBEJcl4d4PA-yRjR_kk/file\n",
            "Reusing existing connection to ucc570708264a6dd5bb434674d89.dl.dropboxusercontent.com:443.\n",
            "HTTP request sent, awaiting response... 200 OK\n",
            "Length: 862182613 (822M) [application/zip]\n",
            "Saving to: ‘glove.6B.zip’\n",
            "\n",
            "glove.6B.zip        100%[===================>] 822.24M  25.9MB/s    in 25s     \n",
            "\n",
            "2018-08-14 06:30:35 (33.1 MB/s) - ‘glove.6B.zip’ saved [862182613/862182613]\n",
            "\n"
          ],
          "name": "stdout"
        }
      ]
    },
    {
      "metadata": {
        "id": "EywAS_yHrAdm",
        "colab_type": "code",
        "colab": {}
      },
      "cell_type": "code",
      "source": [
        "import sys, os"
      ],
      "execution_count": 0,
      "outputs": []
    },
    {
      "metadata": {
        "id": "L6-oUz8ArB8u",
        "colab_type": "code",
        "colab": {
          "base_uri": "https://localhost:8080/",
          "height": 108
        },
        "outputId": "ae185c08-96c4-4759-c716-bc011d7122f7"
      },
      "cell_type": "code",
      "source": [
        "!unzip glove.6B.zip -d ./glove"
      ],
      "execution_count": 9,
      "outputs": [
        {
          "output_type": "stream",
          "text": [
            "Archive:  glove.6B.zip\n",
            "  inflating: ./glove/glove.6B.50d.txt  \n",
            "  inflating: ./glove/glove.6B.100d.txt  \n",
            "  inflating: ./glove/glove.6B.200d.txt  \n",
            "  inflating: ./glove/glove.6B.300d.txt  \n"
          ],
          "name": "stdout"
        }
      ]
    },
    {
      "metadata": {
        "id": "TFgsawwHrdSl",
        "colab_type": "code",
        "colab": {
          "base_uri": "https://localhost:8080/",
          "height": 35
        },
        "outputId": "11b9cd2f-7e26-4810-b365-2fe57b7877ad"
      },
      "cell_type": "code",
      "source": [
        "!ls"
      ],
      "execution_count": 10,
      "outputs": [
        {
          "output_type": "stream",
          "text": [
            "datalab  glove\tglove.6B.zip  MITIE\r\n"
          ],
          "name": "stdout"
        }
      ]
    },
    {
      "metadata": {
        "id": "3sYD719skp_y",
        "colab_type": "code",
        "colab": {}
      },
      "cell_type": "code",
      "source": [
        "\n",
        "from mitie import *\n",
        "\n",
        "trainer = text_categorizer_trainer(\"MITIE/MITIE-models/english/total_word_feature_extractor.dat\")\n",
        "\n",
        " # same as before  - omitted for brevity\n",
        "training_examples = data\n",
        "\n",
        "for label in training_examples.keys():\n",
        "  for text in training_examples[label][\"examples\"]:\n",
        "    tokens = tokenize(text)\n",
        "    trainer.add_labeled_text(tokens,label)\n",
        "    \n",
        "trainer.num_threads = 4\n",
        "cat = trainer.train()\n",
        "\n",
        "cat.save_to_disk(\"my_text_categorizer.dat\")"
      ],
      "execution_count": 0,
      "outputs": []
    },
    {
      "metadata": {
        "id": "X-RuNZfMLuKI",
        "colab_type": "code",
        "colab": {}
      },
      "cell_type": "code",
      "source": [
        "input_string = \"somewhere that serves chinese food\"\n",
        "tokens = tokenize(input_string)\n",
        "predicted_label, _ = cat(tokens)"
      ],
      "execution_count": 0,
      "outputs": []
    },
    {
      "metadata": {
        "id": "s0JrR0CWMVGI",
        "colab_type": "code",
        "colab": {}
      },
      "cell_type": "code",
      "source": [
        "import spacy\n",
        "nlp = spacy.load('en_core_web_sm')"
      ],
      "execution_count": 0,
      "outputs": []
    },
    {
      "metadata": {
        "id": "TxwoCn5_xl7g",
        "colab_type": "code",
        "colab": {
          "base_uri": "https://localhost:8080/",
          "height": 54
        },
        "outputId": "24b6712a-76e3-4d7c-e698-150061affe8f"
      },
      "cell_type": "code",
      "source": [
        "print \"Intention: \", predicted_label\n",
        "doc = nlp(u'{}'.format(input_string)) #input_string.encode('utf-8')\n",
        "for chunk in doc.noun_chunks:\n",
        "  if chunk.root.dep_ == u'dobj':\n",
        "    print(chunk.text)"
      ],
      "execution_count": 48,
      "outputs": [
        {
          "output_type": "stream",
          "text": [
            "Intention:  inform\n",
            "chinese food\n"
          ],
          "name": "stdout"
        }
      ]
    },
    {
      "metadata": {
        "id": "UHuL0z0hNS4S",
        "colab_type": "code",
        "colab": {}
      },
      "cell_type": "code",
      "source": [
        ""
      ],
      "execution_count": 0,
      "outputs": []
    },
    {
      "metadata": {
        "id": "gSsfLz94P76Q",
        "colab_type": "text"
      },
      "cell_type": "markdown",
      "source": [
        "Created with the help of: https://medium.com/rasa-blog/do-it-yourself-nlp-for-bot-developers-2e2da2817f3d"
      ]
    },
    {
      "metadata": {
        "id": "OfTmgUuJQJcD",
        "colab_type": "code",
        "colab": {}
      },
      "cell_type": "code",
      "source": [
        ""
      ],
      "execution_count": 0,
      "outputs": []
    }
  ]
}